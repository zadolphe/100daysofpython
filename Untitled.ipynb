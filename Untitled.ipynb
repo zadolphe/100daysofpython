{
 "cells": [
  {
   "cell_type": "code",
   "execution_count": 7,
   "id": "d5b082e8-db8c-42a3-b0cf-3dca42a65b11",
   "metadata": {},
   "outputs": [],
   "source": [
    "MENU = {\n",
    "    \"espresso\": {\n",
    "        \"ingredients\": {\n",
    "            \"water\": 50,\n",
    "            \"coffee\": 18,\n",
    "        },\n",
    "        \"cost\": 1.5,\n",
    "    },\n",
    "    \"latte\": {\n",
    "        \"ingredients\": {\n",
    "            \"water\": 200,\n",
    "            \"milk\": 150,\n",
    "            \"coffee\": 24,\n",
    "        },\n",
    "        \"cost\": 2.5,\n",
    "    },\n",
    "    \"cappuccino\": {\n",
    "        \"ingredients\": {\n",
    "            \"water\": 250,\n",
    "            \"milk\": 100,\n",
    "            \"coffee\": 24,\n",
    "        },\n",
    "        \"cost\": 3.0,\n",
    "    }\n",
    "}\n",
    "\n",
    "resources = {\n",
    "    \"Water\": 300,\n",
    "    \"Milk\": 200,\n",
    "    \"Coffee\": 100,\n",
    "}\n",
    "\n"
   ]
  },
  {
   "cell_type": "code",
   "execution_count": 6,
   "id": "bca08f84-54f4-41da-af97-37a087316857",
   "metadata": {},
   "outputs": [
    {
     "name": "stdout",
     "output_type": "stream",
     "text": [
      "50\n",
      "1.5\n"
     ]
    }
   ],
   "source": [
    "def checkDict(the_input):\n",
    "    ingredients = MENU[the_input][\"ingredients\"][\"water\"]\n",
    "    return ingredients\n",
    "\n",
    "def checkCost(the_input):\n",
    "    cost = MENU[the_input][\"cost\"]\n",
    "    return cost\n",
    "print(checkDict(\"espresso\"))\n",
    "print(checkCost(\"espresso\"))"
   ]
  },
  {
   "cell_type": "code",
   "execution_count": 10,
   "id": "8597c36f-6ccc-433b-a19f-b37df090b052",
   "metadata": {},
   "outputs": [
    {
     "name": "stdout",
     "output_type": "stream",
     "text": [
      "200\n",
      "64\n"
     ]
    }
   ],
   "source": [
    "resources['Water'] = resources['Water'] - MENU['espresso']['ingredients']['water']\n",
    "resources['Coffee'] = resources['Coffee'] - MENU['espresso']['ingredients']['coffee']\n",
    "print(resources['Water'])\n",
    "print(resources['Coffee'])"
   ]
  },
  {
   "cell_type": "code",
   "execution_count": 22,
   "id": "24092c71-bfd1-4d52-8320-75d294c8e4e0",
   "metadata": {},
   "outputs": [
    {
     "name": "stdout",
     "output_type": "stream",
     "text": [
      "200 ml \n",
      " 200 ml \n",
      " 64 ml \n",
      " 0  \n",
      "\n"
     ]
    }
   ],
   "source": [
    "cashProfit = 0\n",
    "print(resources['Water'], \"ml \\n\", resources['Milk'], \"ml \\n\", resources['Coffee'], \"ml \\n\", cashProfit, \" \\n\")\n",
    "#print(resources['Water'], \"ml \\n \", resources['Milk'])"
   ]
  }
 ],
 "metadata": {
  "kernelspec": {
   "display_name": "ml_env",
   "language": "python",
   "name": "ml_env"
  },
  "language_info": {
   "codemirror_mode": {
    "name": "ipython",
    "version": 3
   },
   "file_extension": ".py",
   "mimetype": "text/x-python",
   "name": "python",
   "nbconvert_exporter": "python",
   "pygments_lexer": "ipython3",
   "version": "3.6.12"
  }
 },
 "nbformat": 4,
 "nbformat_minor": 5
}
